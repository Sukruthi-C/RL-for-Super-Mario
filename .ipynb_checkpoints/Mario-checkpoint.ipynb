{
 "cells": [
  {
   "cell_type": "markdown",
   "metadata": {},
   "source": [
    "Setup Mario"
   ]
  },
  {
   "cell_type": "code",
   "execution_count": 1,
   "metadata": {},
   "outputs": [
    {
     "name": "stdout",
     "output_type": "stream",
     "text": [
      "Defaulting to user installation because normal site-packages is not writeable\n",
      "Requirement already satisfied: gym-super-mario-bros==7.3.0 in /home/sukruthi/.local/lib/python3.10/site-packages (7.3.0)\n",
      "Requirement already satisfied: nes_py in /home/sukruthi/.local/lib/python3.10/site-packages (8.2.1)\n",
      "Requirement already satisfied: pyglet<=1.5.21,>=1.4.0 in /home/sukruthi/.local/lib/python3.10/site-packages (from nes_py) (1.5.21)\n",
      "Requirement already satisfied: gym>=0.17.2 in /home/sukruthi/.local/lib/python3.10/site-packages (from nes_py) (0.26.2)\n",
      "Requirement already satisfied: numpy>=1.18.5 in /home/sukruthi/.local/lib/python3.10/site-packages (from nes_py) (1.25.2)\n",
      "Requirement already satisfied: tqdm>=4.48.2 in /home/sukruthi/.local/lib/python3.10/site-packages (from nes_py) (4.66.4)\n",
      "Requirement already satisfied: gym-notices>=0.0.4 in /home/sukruthi/.local/lib/python3.10/site-packages (from gym>=0.17.2->nes_py) (0.0.8)\n",
      "Requirement already satisfied: cloudpickle>=1.2.0 in /home/sukruthi/.local/lib/python3.10/site-packages (from gym>=0.17.2->nes_py) (3.0.0)\n",
      "Note: you may need to restart the kernel to use updated packages.\n"
     ]
    }
   ],
   "source": [
    "%pip install gym-super-mario-bros==7.3.0 nes_py"
   ]
  },
  {
   "cell_type": "code",
   "execution_count": 13,
   "metadata": {},
   "outputs": [
    {
     "name": "stdout",
     "output_type": "stream",
     "text": [
      "Defaulting to user installation because normal site-packages is not writeable\n",
      "Requirement already satisfied: gym in /home/sukruthi/.local/lib/python3.10/site-packages (0.26.2)\n",
      "Requirement already satisfied: gym-super-mario-bros in /home/sukruthi/.local/lib/python3.10/site-packages (7.3.0)\n",
      "Collecting gym-super-mario-bros\n",
      "  Using cached gym_super_mario_bros-7.4.0-py3-none-any.whl (199 kB)\n",
      "Requirement already satisfied: nes-py in /home/sukruthi/.local/lib/python3.10/site-packages (8.2.1)\n",
      "Requirement already satisfied: cloudpickle>=1.2.0 in /home/sukruthi/.local/lib/python3.10/site-packages (from gym) (3.0.0)\n",
      "Requirement already satisfied: numpy>=1.18.0 in /home/sukruthi/.local/lib/python3.10/site-packages (from gym) (1.25.2)\n",
      "Requirement already satisfied: gym-notices>=0.0.4 in /home/sukruthi/.local/lib/python3.10/site-packages (from gym) (0.0.8)\n",
      "Requirement already satisfied: tqdm>=4.48.2 in /home/sukruthi/.local/lib/python3.10/site-packages (from nes-py) (4.66.4)\n",
      "Requirement already satisfied: pyglet<=1.5.21,>=1.4.0 in /home/sukruthi/.local/lib/python3.10/site-packages (from nes-py) (1.5.21)\n",
      "Installing collected packages: gym-super-mario-bros\n",
      "  Attempting uninstall: gym-super-mario-bros\n",
      "    Found existing installation: gym-super-mario-bros 7.3.0\n",
      "    Uninstalling gym-super-mario-bros-7.3.0:\n",
      "      Successfully uninstalled gym-super-mario-bros-7.3.0\n",
      "Successfully installed gym-super-mario-bros-7.4.0\n",
      "Note: you may need to restart the kernel to use updated packages.\n"
     ]
    }
   ],
   "source": [
    "%pip install --upgrade gym gym-super-mario-bros nes-py\n"
   ]
  },
  {
   "cell_type": "code",
   "execution_count": 2,
   "metadata": {},
   "outputs": [],
   "source": [
    "# Import the game\n",
    "import gym_super_mario_bros\n",
    "\n",
    "# Import Joypad wrapper\n",
    "from nes_py.wrappers import JoypadSpace\n",
    "\n",
    "# Import simplified control\n",
    "from gym_super_mario_bros.actions import SIMPLE_MOVEMENT"
   ]
  },
  {
   "cell_type": "code",
   "execution_count": 3,
   "metadata": {},
   "outputs": [
    {
     "data": {
      "text/plain": [
       "[['NOOP'],\n",
       " ['right'],\n",
       " ['right', 'A'],\n",
       " ['right', 'B'],\n",
       " ['right', 'A', 'B'],\n",
       " ['A'],\n",
       " ['left']]"
      ]
     },
     "execution_count": 3,
     "metadata": {},
     "output_type": "execute_result"
    }
   ],
   "source": [
    "SIMPLE_MOVEMENT"
   ]
  },
  {
   "cell_type": "markdown",
   "metadata": {},
   "source": [
    "Setup the environment"
   ]
  },
  {
   "cell_type": "code",
   "execution_count": 14,
   "metadata": {},
   "outputs": [
    {
     "name": "stderr",
     "output_type": "stream",
     "text": [
      "/home/sukruthi/.local/lib/python3.10/site-packages/gym/envs/registration.py:555: UserWarning: \u001b[33mWARN: The environment SuperMarioBros-v0 is out of date. You should consider upgrading to version `v3`.\u001b[0m\n",
      "  logger.warn(\n"
     ]
    }
   ],
   "source": [
    "env = gym_super_mario_bros.make(\"SuperMarioBros-v0\")\n",
    "env = JoypadSpace(env,SIMPLE_MOVEMENT)"
   ]
  },
  {
   "cell_type": "code",
   "execution_count": 5,
   "metadata": {},
   "outputs": [
    {
     "data": {
      "text/plain": [
       "(240, 256, 3)"
      ]
     },
     "execution_count": 5,
     "metadata": {},
     "output_type": "execute_result"
    }
   ],
   "source": [
    "env.observation_space.shape\n"
   ]
  },
  {
   "cell_type": "code",
   "execution_count": 6,
   "metadata": {},
   "outputs": [
    {
     "data": {
      "text/plain": [
       "Discrete(7)"
      ]
     },
     "execution_count": 6,
     "metadata": {},
     "output_type": "execute_result"
    }
   ],
   "source": [
    "env.action_space"
   ]
  },
  {
   "cell_type": "code",
   "execution_count": 7,
   "metadata": {},
   "outputs": [
    {
     "data": {
      "text/plain": [
       "[['NOOP'],\n",
       " ['right'],\n",
       " ['right', 'A'],\n",
       " ['right', 'B'],\n",
       " ['right', 'A', 'B'],\n",
       " ['A'],\n",
       " ['left']]"
      ]
     },
     "execution_count": 7,
     "metadata": {},
     "output_type": "execute_result"
    }
   ],
   "source": [
    "SIMPLE_MOVEMENT"
   ]
  },
  {
   "cell_type": "code",
   "execution_count": 21,
   "metadata": {},
   "outputs": [
    {
     "name": "stderr",
     "output_type": "stream",
     "text": [
      "582.90s - pydevd: Sending message related to process being replaced timed-out after 5 seconds\n"
     ]
    },
    {
     "name": "stdout",
     "output_type": "stream",
     "text": [
      "Defaulting to user installation because normal site-packages is not writeable\n",
      "Collecting nespy\n",
      "  Downloading nespy-0.0.6-py3-none-any.whl (53 kB)\n",
      "\u001b[2K     \u001b[38;2;114;156;31m━━━━━━━━━━━━━━━━━━━━━━━━━━━━━━━━━━━━━━━\u001b[0m \u001b[32m53.5/53.5 KB\u001b[0m \u001b[31m920.8 kB/s\u001b[0m eta \u001b[36m0:00:00\u001b[0mMB/s\u001b[0m eta \u001b[36m0:00:01\u001b[0m\n",
      "\u001b[?25hRequirement already satisfied: ipython>=6 in /home/sukruthi/.local/lib/python3.10/site-packages (from nespy) (8.25.0)\n",
      "Requirement already satisfied: pandas>=1 in /home/sukruthi/.local/lib/python3.10/site-packages (from nespy) (2.1.1)\n",
      "Requirement already satisfied: requests>=2.25 in /usr/lib/python3/dist-packages (from nespy) (2.25.1)\n",
      "Collecting google>=3\n",
      "  Downloading google-3.0.0-py2.py3-none-any.whl (45 kB)\n",
      "\u001b[2K     \u001b[38;2;114;156;31m━━━━━━━━━━━━━━━━━━━━━━━━━━━━━━━━━━━━━━━━\u001b[0m \u001b[32m45.3/45.3 KB\u001b[0m \u001b[31m3.8 MB/s\u001b[0m eta \u001b[36m0:00:00\u001b[0m\n",
      "\u001b[?25hRequirement already satisfied: pyzmq>=22 in /home/sukruthi/.local/lib/python3.10/site-packages (from nespy) (26.0.3)\n",
      "Requirement already satisfied: protobuf>=3 in /usr/lib/python3/dist-packages (from nespy) (3.12.4)\n",
      "Requirement already satisfied: beautifulsoup4 in /usr/lib/python3/dist-packages (from google>=3->nespy) (4.10.0)\n",
      "Requirement already satisfied: prompt-toolkit<3.1.0,>=3.0.41 in /home/sukruthi/.local/lib/python3.10/site-packages (from ipython>=6->nespy) (3.0.46)\n",
      "Requirement already satisfied: decorator in /usr/lib/python3/dist-packages (from ipython>=6->nespy) (4.4.2)\n",
      "Requirement already satisfied: stack-data in /home/sukruthi/.local/lib/python3.10/site-packages (from ipython>=6->nespy) (0.6.3)\n",
      "Requirement already satisfied: pexpect>4.3 in /usr/lib/python3/dist-packages (from ipython>=6->nespy) (4.8.0)\n",
      "Requirement already satisfied: jedi>=0.16 in /home/sukruthi/.local/lib/python3.10/site-packages (from ipython>=6->nespy) (0.19.1)\n",
      "Requirement already satisfied: matplotlib-inline in /home/sukruthi/.local/lib/python3.10/site-packages (from ipython>=6->nespy) (0.1.7)\n",
      "Requirement already satisfied: pygments>=2.4.0 in /usr/lib/python3/dist-packages (from ipython>=6->nespy) (2.11.2)\n",
      "Requirement already satisfied: typing-extensions>=4.6 in /home/sukruthi/.local/lib/python3.10/site-packages (from ipython>=6->nespy) (4.8.0)\n",
      "Requirement already satisfied: exceptiongroup in /home/sukruthi/.local/lib/python3.10/site-packages (from ipython>=6->nespy) (1.2.1)\n",
      "Requirement already satisfied: traitlets>=5.13.0 in /home/sukruthi/.local/lib/python3.10/site-packages (from ipython>=6->nespy) (5.14.3)\n",
      "Requirement already satisfied: python-dateutil>=2.8.2 in /home/sukruthi/.local/lib/python3.10/site-packages (from pandas>=1->nespy) (2.8.2)\n",
      "Requirement already satisfied: tzdata>=2022.1 in /home/sukruthi/.local/lib/python3.10/site-packages (from pandas>=1->nespy) (2023.3)\n",
      "Requirement already satisfied: numpy>=1.22.4 in /home/sukruthi/.local/lib/python3.10/site-packages (from pandas>=1->nespy) (1.25.2)\n",
      "Requirement already satisfied: pytz>=2020.1 in /usr/lib/python3/dist-packages (from pandas>=1->nespy) (2022.1)\n",
      "Requirement already satisfied: parso<0.9.0,>=0.8.3 in /home/sukruthi/.local/lib/python3.10/site-packages (from jedi>=0.16->ipython>=6->nespy) (0.8.4)\n",
      "Requirement already satisfied: wcwidth in /home/sukruthi/.local/lib/python3.10/site-packages (from prompt-toolkit<3.1.0,>=3.0.41->ipython>=6->nespy) (0.2.13)\n",
      "Requirement already satisfied: six>=1.5 in /usr/lib/python3/dist-packages (from python-dateutil>=2.8.2->pandas>=1->nespy) (1.16.0)\n",
      "Requirement already satisfied: asttokens>=2.1.0 in /home/sukruthi/.local/lib/python3.10/site-packages (from stack-data->ipython>=6->nespy) (2.4.1)\n",
      "Requirement already satisfied: pure-eval in /home/sukruthi/.local/lib/python3.10/site-packages (from stack-data->ipython>=6->nespy) (0.2.2)\n",
      "Requirement already satisfied: executing>=1.2.0 in /home/sukruthi/.local/lib/python3.10/site-packages (from stack-data->ipython>=6->nespy) (2.0.1)\n",
      "Installing collected packages: google, nespy\n",
      "Successfully installed google-3.0.0 nespy-0.0.6\n",
      "Note: you may need to restart the kernel to use updated packages.\n"
     ]
    }
   ],
   "source": [
    "%pip install nespy"
   ]
  },
  {
   "cell_type": "code",
   "execution_count": 22,
   "metadata": {},
   "outputs": [
    {
     "ename": "ValueError",
     "evalue": "not enough values to unpack (expected 5, got 4)",
     "output_type": "error",
     "traceback": [
      "\u001b[0;31m---------------------------------------------------------------------------\u001b[0m",
      "\u001b[0;31mValueError\u001b[0m                                Traceback (most recent call last)",
      "Cell \u001b[0;32mIn[22], line 7\u001b[0m\n\u001b[1;32m      5\u001b[0m         env\u001b[38;5;241m.\u001b[39mreset()\n\u001b[1;32m      6\u001b[0m     action \u001b[38;5;241m=\u001b[39m env\u001b[38;5;241m.\u001b[39maction_space\u001b[38;5;241m.\u001b[39msample()\n\u001b[0;32m----> 7\u001b[0m     obs,reward,done,info \u001b[38;5;241m=\u001b[39m \u001b[43menv\u001b[49m\u001b[38;5;241;43m.\u001b[39;49m\u001b[43mstep\u001b[49m\u001b[43m(\u001b[49m\u001b[43maction\u001b[49m\u001b[43m)\u001b[49m\n\u001b[1;32m      8\u001b[0m     env\u001b[38;5;241m.\u001b[39mrender()\n\u001b[1;32m      9\u001b[0m env\u001b[38;5;241m.\u001b[39mclose()\n",
      "File \u001b[0;32m~/.local/lib/python3.10/site-packages/nes_py/wrappers/joypad_space.py:74\u001b[0m, in \u001b[0;36mJoypadSpace.step\u001b[0;34m(self, action)\u001b[0m\n\u001b[1;32m     59\u001b[0m \u001b[38;5;124;03m\"\"\"\u001b[39;00m\n\u001b[1;32m     60\u001b[0m \u001b[38;5;124;03mTake a step using the given action.\u001b[39;00m\n\u001b[1;32m     61\u001b[0m \n\u001b[0;32m   (...)\u001b[0m\n\u001b[1;32m     71\u001b[0m \n\u001b[1;32m     72\u001b[0m \u001b[38;5;124;03m\"\"\"\u001b[39;00m\n\u001b[1;32m     73\u001b[0m \u001b[38;5;66;03m# take the step and record the output\u001b[39;00m\n\u001b[0;32m---> 74\u001b[0m \u001b[38;5;28;01mreturn\u001b[39;00m \u001b[38;5;28;43mself\u001b[39;49m\u001b[38;5;241;43m.\u001b[39;49m\u001b[43menv\u001b[49m\u001b[38;5;241;43m.\u001b[39;49m\u001b[43mstep\u001b[49m\u001b[43m(\u001b[49m\u001b[38;5;28;43mself\u001b[39;49m\u001b[38;5;241;43m.\u001b[39;49m\u001b[43m_action_map\u001b[49m\u001b[43m[\u001b[49m\u001b[43maction\u001b[49m\u001b[43m]\u001b[49m\u001b[43m)\u001b[49m\n",
      "File \u001b[0;32m~/.local/lib/python3.10/site-packages/gym/wrappers/time_limit.py:50\u001b[0m, in \u001b[0;36mTimeLimit.step\u001b[0;34m(self, action)\u001b[0m\n\u001b[1;32m     39\u001b[0m \u001b[38;5;28;01mdef\u001b[39;00m \u001b[38;5;21mstep\u001b[39m(\u001b[38;5;28mself\u001b[39m, action):\n\u001b[1;32m     40\u001b[0m     \u001b[38;5;124;03m\"\"\"Steps through the environment and if the number of steps elapsed exceeds ``max_episode_steps`` then truncate.\u001b[39;00m\n\u001b[1;32m     41\u001b[0m \n\u001b[1;32m     42\u001b[0m \u001b[38;5;124;03m    Args:\u001b[39;00m\n\u001b[0;32m   (...)\u001b[0m\n\u001b[1;32m     48\u001b[0m \n\u001b[1;32m     49\u001b[0m \u001b[38;5;124;03m    \"\"\"\u001b[39;00m\n\u001b[0;32m---> 50\u001b[0m     observation, reward, terminated, truncated, info \u001b[38;5;241m=\u001b[39m \u001b[38;5;28mself\u001b[39m\u001b[38;5;241m.\u001b[39menv\u001b[38;5;241m.\u001b[39mstep(action)\n\u001b[1;32m     51\u001b[0m     \u001b[38;5;28mself\u001b[39m\u001b[38;5;241m.\u001b[39m_elapsed_steps \u001b[38;5;241m+\u001b[39m\u001b[38;5;241m=\u001b[39m \u001b[38;5;241m1\u001b[39m\n\u001b[1;32m     53\u001b[0m     \u001b[38;5;28;01mif\u001b[39;00m \u001b[38;5;28mself\u001b[39m\u001b[38;5;241m.\u001b[39m_elapsed_steps \u001b[38;5;241m>\u001b[39m\u001b[38;5;241m=\u001b[39m \u001b[38;5;28mself\u001b[39m\u001b[38;5;241m.\u001b[39m_max_episode_steps:\n",
      "\u001b[0;31mValueError\u001b[0m: not enough values to unpack (expected 5, got 4)"
     ]
    }
   ],
   "source": [
    "done = False\n",
    "state = env.reset()\n",
    "for step in range (5000):\n",
    "    if done:\n",
    "        env.reset()\n",
    "    action = env.action_space.sample()\n",
    "    obs,reward,done,info = env.step(action)\n",
    "    env.render()\n",
    "env.close()"
   ]
  },
  {
   "cell_type": "code",
   "execution_count": null,
   "metadata": {},
   "outputs": [],
   "source": []
  },
  {
   "cell_type": "code",
   "execution_count": null,
   "metadata": {},
   "outputs": [],
   "source": []
  }
 ],
 "metadata": {
  "kernelspec": {
   "display_name": "Python 3",
   "language": "python",
   "name": "python3"
  },
  "language_info": {
   "codemirror_mode": {
    "name": "ipython",
    "version": 3
   },
   "file_extension": ".py",
   "mimetype": "text/x-python",
   "name": "python",
   "nbconvert_exporter": "python",
   "pygments_lexer": "ipython3",
   "version": "3.10.12"
  }
 },
 "nbformat": 4,
 "nbformat_minor": 2
}
