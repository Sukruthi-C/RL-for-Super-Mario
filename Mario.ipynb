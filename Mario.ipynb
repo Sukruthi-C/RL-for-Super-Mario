{
 "cells": [
  {
   "cell_type": "markdown",
   "metadata": {},
   "source": [
    "Setup Mario"
   ]
  },
  {
   "cell_type": "code",
   "execution_count": 20,
   "metadata": {},
   "outputs": [
    {
     "name": "stdout",
     "output_type": "stream",
     "text": [
      "Defaulting to user installation because normal site-packages is not writeable\n",
      "Collecting gym-super-mario-bros==7.4.0\n",
      "  Using cached gym_super_mario_bros-7.4.0-py3-none-any.whl (199 kB)\n",
      "Requirement already satisfied: nes_py in /home/sukruthi/.local/lib/python3.10/site-packages (8.2.1)\n",
      "Requirement already satisfied: numpy>=1.18.5 in /home/sukruthi/.local/lib/python3.10/site-packages (from nes_py) (1.25.2)\n",
      "Requirement already satisfied: tqdm>=4.48.2 in /home/sukruthi/.local/lib/python3.10/site-packages (from nes_py) (4.66.4)\n",
      "Requirement already satisfied: pyglet<=1.5.21,>=1.4.0 in /home/sukruthi/.local/lib/python3.10/site-packages (from nes_py) (1.5.21)\n",
      "Requirement already satisfied: gym>=0.17.2 in /home/sukruthi/.local/lib/python3.10/site-packages (from nes_py) (0.26.2)\n",
      "Requirement already satisfied: cloudpickle>=1.2.0 in /home/sukruthi/.local/lib/python3.10/site-packages (from gym>=0.17.2->nes_py) (3.0.0)\n",
      "Requirement already satisfied: gym-notices>=0.0.4 in /home/sukruthi/.local/lib/python3.10/site-packages (from gym>=0.17.2->nes_py) (0.0.8)\n",
      "Installing collected packages: gym-super-mario-bros\n",
      "  Attempting uninstall: gym-super-mario-bros\n",
      "    Found existing installation: gym-super-mario-bros 7.3.0\n",
      "    Uninstalling gym-super-mario-bros-7.3.0:\n",
      "      Successfully uninstalled gym-super-mario-bros-7.3.0\n",
      "Successfully installed gym-super-mario-bros-7.4.0\n",
      "Note: you may need to restart the kernel to use updated packages.\n"
     ]
    }
   ],
   "source": [
    "%pip install gym-super-mario-bros==7.4.0 nes_py"
   ]
  },
  {
   "cell_type": "code",
   "execution_count": 2,
   "metadata": {},
   "outputs": [],
   "source": [
    "# %pip install --upgrade gym gym-super-mario-bros nes-py\n"
   ]
  },
  {
   "cell_type": "code",
   "execution_count": 3,
   "metadata": {},
   "outputs": [],
   "source": [
    "# cd /home/sukruthi/Desktop/RL-for-Super-Mario  # Navigate to the project directory\n",
    "# %source .venv/bin/activate  # Activate the virtual environment\n"
   ]
  },
  {
   "cell_type": "code",
   "execution_count": 4,
   "metadata": {},
   "outputs": [
    {
     "name": "stdout",
     "output_type": "stream",
     "text": [
      "Name: gym-super-mario-bros\n",
      "Version: 7.4.0\n",
      "Summary: Super Mario Bros. for OpenAI Gym\n",
      "Home-page: https://github.com/Kautenja/gym-super-mario-bros\n",
      "Author: Christian Kauten\n",
      "Author-email: kautencreations@gmail.com\n",
      "License: Proprietary\n",
      "Location: /home/sukruthi/.local/lib/python3.10/site-packages\n",
      "Requires: nes-py\n",
      "Required-by: \n",
      "Note: you may need to restart the kernel to use updated packages.\n",
      "Name: nes-py\n",
      "Version: 8.2.1\n",
      "Summary: An NES Emulator and OpenAI Gym interface\n",
      "Home-page: https://github.com/Kautenja/nes-py\n",
      "Author: Christian Kauten\n",
      "Author-email: kautencreations@gmail.com\n",
      "License: MIT\n",
      "Location: /home/sukruthi/.local/lib/python3.10/site-packages\n",
      "Requires: gym, numpy, pyglet, tqdm\n",
      "Required-by: gym-super-mario-bros\n",
      "Note: you may need to restart the kernel to use updated packages.\n",
      "Requirement already satisfied: gym-super-mario-bros in /home/sukruthi/.local/lib/python3.10/site-packages (7.4.0)\n",
      "Requirement already satisfied: nes_py in /home/sukruthi/.local/lib/python3.10/site-packages (8.2.1)\n",
      "Requirement already satisfied: gym>=0.17.2 in /home/sukruthi/.local/lib/python3.10/site-packages (from nes_py) (0.26.2)\n",
      "Requirement already satisfied: pyglet<=1.5.21,>=1.4.0 in /home/sukruthi/.local/lib/python3.10/site-packages (from nes_py) (1.5.21)\n",
      "Requirement already satisfied: tqdm>=4.48.2 in /home/sukruthi/.local/lib/python3.10/site-packages (from nes_py) (4.66.4)\n",
      "Requirement already satisfied: numpy>=1.18.5 in /home/sukruthi/.local/lib/python3.10/site-packages (from nes_py) (1.25.2)\n",
      "Requirement already satisfied: cloudpickle>=1.2.0 in /home/sukruthi/.local/lib/python3.10/site-packages (from gym>=0.17.2->nes_py) (3.0.0)\n",
      "Requirement already satisfied: gym-notices>=0.0.4 in /home/sukruthi/.local/lib/python3.10/site-packages (from gym>=0.17.2->nes_py) (0.0.8)\n",
      "Note: you may need to restart the kernel to use updated packages.\n"
     ]
    }
   ],
   "source": [
    "# # Check if gym-super-mario-bros is installed and its version\n",
    "# %pip show gym-super-mario-bros\n",
    "\n",
    "# # Check if nes_py is installed and its version\n",
    "# %pip show nes_py\n",
    "\n",
    "# # Install or reinstall if necessary\n",
    "# %pip install gym-super-mario-bros nes_py --user\n"
   ]
  },
  {
   "cell_type": "code",
   "execution_count": 17,
   "metadata": {},
   "outputs": [],
   "source": [
    "# Import the game\n",
    "import gym_super_mario_bros\n",
    "\n",
    "# Import Joypad wrapper\n",
    "from nes_py.wrappers import JoypadSpace\n",
    "\n",
    "# Import simplified control\n",
    "from gym_super_mario_bros.actions import SIMPLE_MOVEMENT"
   ]
  },
  {
   "cell_type": "code",
   "execution_count": 6,
   "metadata": {},
   "outputs": [
    {
     "data": {
      "text/plain": [
       "[['NOOP'],\n",
       " ['right'],\n",
       " ['right', 'A'],\n",
       " ['right', 'B'],\n",
       " ['right', 'A', 'B'],\n",
       " ['A'],\n",
       " ['left']]"
      ]
     },
     "execution_count": 6,
     "metadata": {},
     "output_type": "execute_result"
    }
   ],
   "source": [
    "SIMPLE_MOVEMENT"
   ]
  },
  {
   "cell_type": "markdown",
   "metadata": {},
   "source": [
    "Setup the environment"
   ]
  },
  {
   "cell_type": "code",
   "execution_count": 7,
   "metadata": {},
   "outputs": [
    {
     "name": "stderr",
     "output_type": "stream",
     "text": [
      "/home/sukruthi/.local/lib/python3.10/site-packages/gym/envs/registration.py:555: UserWarning: \u001b[33mWARN: The environment SuperMarioBros-v0 is out of date. You should consider upgrading to version `v3`.\u001b[0m\n",
      "  logger.warn(\n"
     ]
    }
   ],
   "source": [
    "env = gym_super_mario_bros.make(\"SuperMarioBros-v0\")\n",
    "env = JoypadSpace(env,SIMPLE_MOVEMENT)"
   ]
  },
  {
   "cell_type": "code",
   "execution_count": 8,
   "metadata": {},
   "outputs": [
    {
     "data": {
      "text/plain": [
       "(240, 256, 3)"
      ]
     },
     "execution_count": 8,
     "metadata": {},
     "output_type": "execute_result"
    }
   ],
   "source": [
    "env.observation_space.shape\n"
   ]
  },
  {
   "cell_type": "code",
   "execution_count": 9,
   "metadata": {},
   "outputs": [
    {
     "data": {
      "text/plain": [
       "Discrete(7)"
      ]
     },
     "execution_count": 9,
     "metadata": {},
     "output_type": "execute_result"
    }
   ],
   "source": [
    "env.action_space"
   ]
  },
  {
   "cell_type": "code",
   "execution_count": 10,
   "metadata": {},
   "outputs": [
    {
     "data": {
      "text/plain": [
       "[['NOOP'],\n",
       " ['right'],\n",
       " ['right', 'A'],\n",
       " ['right', 'B'],\n",
       " ['right', 'A', 'B'],\n",
       " ['A'],\n",
       " ['left']]"
      ]
     },
     "execution_count": 10,
     "metadata": {},
     "output_type": "execute_result"
    }
   ],
   "source": [
    "SIMPLE_MOVEMENT"
   ]
  },
  {
   "cell_type": "code",
   "execution_count": 13,
   "metadata": {},
   "outputs": [
    {
     "name": "stdout",
     "output_type": "stream",
     "text": [
      "Defaulting to user installation because normal site-packages is not writeable\n",
      "Requirement already satisfied: nes-py in /home/sukruthi/.local/lib/python3.10/site-packages (8.2.1)\n",
      "Requirement already satisfied: tqdm>=4.48.2 in /home/sukruthi/.local/lib/python3.10/site-packages (from nes-py) (4.66.4)\n",
      "Requirement already satisfied: gym>=0.17.2 in /home/sukruthi/.local/lib/python3.10/site-packages (from nes-py) (0.26.2)\n",
      "Requirement already satisfied: pyglet<=1.5.21,>=1.4.0 in /home/sukruthi/.local/lib/python3.10/site-packages (from nes-py) (1.5.21)\n",
      "Requirement already satisfied: numpy>=1.18.5 in /home/sukruthi/.local/lib/python3.10/site-packages (from nes-py) (1.25.2)\n",
      "Requirement already satisfied: cloudpickle>=1.2.0 in /home/sukruthi/.local/lib/python3.10/site-packages (from gym>=0.17.2->nes-py) (3.0.0)\n",
      "Requirement already satisfied: gym-notices>=0.0.4 in /home/sukruthi/.local/lib/python3.10/site-packages (from gym>=0.17.2->nes-py) (0.0.8)\n",
      "Note: you may need to restart the kernel to use updated packages.\n"
     ]
    }
   ],
   "source": [
    "# %pip install nes-py"
   ]
  },
  {
   "cell_type": "code",
   "execution_count": 19,
   "metadata": {},
   "outputs": [
    {
     "name": "stdout",
     "output_type": "stream",
     "text": [
      "<bound method JoypadSpace.step of <JoypadSpace<TimeLimit<OrderEnforcing<PassiveEnvChecker<SuperMarioBrosEnv<SuperMarioBros-v0>>>>>>>\n"
     ]
    },
    {
     "ename": "ValueError",
     "evalue": "not enough values to unpack (expected 5, got 4)",
     "output_type": "error",
     "traceback": [
      "\u001b[0;31m---------------------------------------------------------------------------\u001b[0m",
      "\u001b[0;31mValueError\u001b[0m                                Traceback (most recent call last)",
      "Cell \u001b[0;32mIn[19], line 8\u001b[0m\n\u001b[1;32m      6\u001b[0m     action \u001b[38;5;241m=\u001b[39m env\u001b[38;5;241m.\u001b[39maction_space\u001b[38;5;241m.\u001b[39msample()\n\u001b[1;32m      7\u001b[0m     \u001b[38;5;28mprint\u001b[39m(env\u001b[38;5;241m.\u001b[39mstep)\n\u001b[0;32m----> 8\u001b[0m     state,reward,done,info\u001b[38;5;241m=\u001b[39m \u001b[43menv\u001b[49m\u001b[38;5;241;43m.\u001b[39;49m\u001b[43mstep\u001b[49m\u001b[43m(\u001b[49m\u001b[43maction\u001b[49m\u001b[43m)\u001b[49m\n\u001b[1;32m      9\u001b[0m     env\u001b[38;5;241m.\u001b[39mrender()\n\u001b[1;32m     10\u001b[0m env\u001b[38;5;241m.\u001b[39mclose()\n",
      "File \u001b[0;32m~/.local/lib/python3.10/site-packages/nes_py/wrappers/joypad_space.py:74\u001b[0m, in \u001b[0;36mJoypadSpace.step\u001b[0;34m(self, action)\u001b[0m\n\u001b[1;32m     59\u001b[0m \u001b[38;5;124;03m\"\"\"\u001b[39;00m\n\u001b[1;32m     60\u001b[0m \u001b[38;5;124;03mTake a step using the given action.\u001b[39;00m\n\u001b[1;32m     61\u001b[0m \n\u001b[0;32m   (...)\u001b[0m\n\u001b[1;32m     71\u001b[0m \n\u001b[1;32m     72\u001b[0m \u001b[38;5;124;03m\"\"\"\u001b[39;00m\n\u001b[1;32m     73\u001b[0m \u001b[38;5;66;03m# take the step and record the output\u001b[39;00m\n\u001b[0;32m---> 74\u001b[0m \u001b[38;5;28;01mreturn\u001b[39;00m \u001b[38;5;28;43mself\u001b[39;49m\u001b[38;5;241;43m.\u001b[39;49m\u001b[43menv\u001b[49m\u001b[38;5;241;43m.\u001b[39;49m\u001b[43mstep\u001b[49m\u001b[43m(\u001b[49m\u001b[38;5;28;43mself\u001b[39;49m\u001b[38;5;241;43m.\u001b[39;49m\u001b[43m_action_map\u001b[49m\u001b[43m[\u001b[49m\u001b[43maction\u001b[49m\u001b[43m]\u001b[49m\u001b[43m)\u001b[49m\n",
      "File \u001b[0;32m~/.local/lib/python3.10/site-packages/gym/wrappers/time_limit.py:50\u001b[0m, in \u001b[0;36mTimeLimit.step\u001b[0;34m(self, action)\u001b[0m\n\u001b[1;32m     39\u001b[0m \u001b[38;5;28;01mdef\u001b[39;00m \u001b[38;5;21mstep\u001b[39m(\u001b[38;5;28mself\u001b[39m, action):\n\u001b[1;32m     40\u001b[0m     \u001b[38;5;124;03m\"\"\"Steps through the environment and if the number of steps elapsed exceeds ``max_episode_steps`` then truncate.\u001b[39;00m\n\u001b[1;32m     41\u001b[0m \n\u001b[1;32m     42\u001b[0m \u001b[38;5;124;03m    Args:\u001b[39;00m\n\u001b[0;32m   (...)\u001b[0m\n\u001b[1;32m     48\u001b[0m \n\u001b[1;32m     49\u001b[0m \u001b[38;5;124;03m    \"\"\"\u001b[39;00m\n\u001b[0;32m---> 50\u001b[0m     observation, reward, terminated, truncated, info \u001b[38;5;241m=\u001b[39m \u001b[38;5;28mself\u001b[39m\u001b[38;5;241m.\u001b[39menv\u001b[38;5;241m.\u001b[39mstep(action)\n\u001b[1;32m     51\u001b[0m     \u001b[38;5;28mself\u001b[39m\u001b[38;5;241m.\u001b[39m_elapsed_steps \u001b[38;5;241m+\u001b[39m\u001b[38;5;241m=\u001b[39m \u001b[38;5;241m1\u001b[39m\n\u001b[1;32m     53\u001b[0m     \u001b[38;5;28;01mif\u001b[39;00m \u001b[38;5;28mself\u001b[39m\u001b[38;5;241m.\u001b[39m_elapsed_steps \u001b[38;5;241m>\u001b[39m\u001b[38;5;241m=\u001b[39m \u001b[38;5;28mself\u001b[39m\u001b[38;5;241m.\u001b[39m_max_episode_steps:\n",
      "\u001b[0;31mValueError\u001b[0m: not enough values to unpack (expected 5, got 4)"
     ]
    }
   ],
   "source": [
    "done = True\n",
    "# state = env.reset()\n",
    "for step in range (5000):\n",
    "    if done:\n",
    "        env.reset()\n",
    "    action = env.action_space.sample()\n",
    "    print(env.step)\n",
    "    state,reward,done,info= env.step(action)\n",
    "    env.render()\n",
    "env.close()"
   ]
  },
  {
   "cell_type": "code",
   "execution_count": null,
   "metadata": {},
   "outputs": [],
   "source": []
  },
  {
   "cell_type": "code",
   "execution_count": null,
   "metadata": {},
   "outputs": [],
   "source": []
  }
 ],
 "metadata": {
  "kernelspec": {
   "display_name": "Python 3",
   "language": "python",
   "name": "python3"
  },
  "language_info": {
   "codemirror_mode": {
    "name": "ipython",
    "version": 3
   },
   "file_extension": ".py",
   "mimetype": "text/x-python",
   "name": "python",
   "nbconvert_exporter": "python",
   "pygments_lexer": "ipython3",
   "version": "3.10.12"
  }
 },
 "nbformat": 4,
 "nbformat_minor": 2
}
